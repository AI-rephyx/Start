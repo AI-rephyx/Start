{
  "nbformat": 4,
  "nbformat_minor": 0,
  "metadata": {
    "colab": {
      "provenance": [],
      "authorship_tag": "ABX9TyOUk/jvAmdoBmNJ4rul2QlW",
      "include_colab_link": true
    },
    "kernelspec": {
      "name": "python3",
      "display_name": "Python 3"
    },
    "language_info": {
      "name": "python"
    }
  },
  "cells": [
    {
      "cell_type": "markdown",
      "metadata": {
        "id": "view-in-github",
        "colab_type": "text"
      },
      "source": [
        "<a href=\"https://colab.research.google.com/github/AI-rephyx/Start/blob/master/Project/python_project.ipynb\" target=\"_parent\"><img src=\"https://colab.research.google.com/assets/colab-badge.svg\" alt=\"Open In Colab\"/></a>"
      ]
    },
    {
      "cell_type": "markdown",
      "source": [
        "**1. 사각형 넓이 구하기**"
      ],
      "metadata": {
        "id": "XT4o9PLKJ6ac"
      }
    },
    {
      "cell_type": "code",
      "execution_count": null,
      "metadata": {
        "colab": {
          "base_uri": "https://localhost:8080/"
        },
        "id": "mCRQgXF_Jyw2",
        "outputId": "ee508bd9-8d48-4633-b5e7-0c8aa3387ca2"
      },
      "outputs": [
        {
          "output_type": "stream",
          "name": "stdout",
          "text": [
            "넓이를 구하고 싶은 사각형의 숫자를 써주세요.\n",
            " 1.직사각형 2.평행사변형 3.사다리꼴 \n",
            " >>>1\n",
            "직사각형 함수는 rect()입니다.\n"
          ]
        }
      ],
      "source": [
        "class Square:\n",
        "    def __init__(self):\n",
        "        self.square = int(input('넓이를 구하고 싶은 사각형의 숫자를 써주세요.\\n 1.직사각형 2.평행사변형 3.사다리꼴 \\n >>>'))\n",
        "\n",
        "        if self.square == 1:\n",
        "            print('직사각형 함수는 rect()입니다.')\n",
        "\n",
        "        elif self.square == 2:\n",
        "            print('평행사변형 함수는 par()입니다.')\n",
        "\n",
        "        elif self.square == 3:\n",
        "            print('사다리꼴 함수는 trape()입니다.')\n",
        "\n",
        "        else:\n",
        "            print('1, 2, 3 중에서 다시 입력해주세요')\n",
        "\n",
        "    def rect(self):\n",
        "        width, vertical = map(int, input('가로, 세로를 입력하세요. 예시 : 가로,세로\\n >>>').split(','))\n",
        "        area = width * vertical\n",
        "        result = '직사각형의 넓이는 : ' + str(area)\n",
        "        return result\n",
        "\n",
        "    def par(self):\n",
        "        lower, height = map(int, input('밑변, 높이를 입력하세요. 예시 : 밑변,높이\\n >>>').split(','))\n",
        "        area = lower * height\n",
        "        result = '평행사변형의 넓이는 : ' + str(area)\n",
        "        return result\n",
        "\n",
        "    def trape(self):\n",
        "        lower, upper, height = map(int, input('밑변, 윗변, 높이를 입력하세요. 예시 : 밑변, 윗변, 높이\\n >>>').split(','))\n",
        "        area = (lower + upper) * height / 2\n",
        "        result = '사다리꼴의 넓이는 : ' + str(area)\n",
        "        return result\n",
        "\n",
        "a = Square()"
      ]
    },
    {
      "cell_type": "code",
      "source": [
        "a = Square()"
      ],
      "metadata": {
        "colab": {
          "base_uri": "https://localhost:8080/"
        },
        "id": "vbTuWLdfKI68",
        "outputId": "fc255017-8851-4229-c470-318120b2972d"
      },
      "execution_count": null,
      "outputs": [
        {
          "output_type": "stream",
          "name": "stdout",
          "text": [
            "넓이를 구하고 싶은 사각형의 숫자를 써주세요.\n",
            " 1.직사각형 2.평행사변형 3.사다리꼴 \n",
            " >>>2\n",
            "평행사변형 함수는 par()입니다.\n"
          ]
        }
      ]
    },
    {
      "cell_type": "code",
      "source": [
        "a = Square()"
      ],
      "metadata": {
        "colab": {
          "base_uri": "https://localhost:8080/"
        },
        "id": "kCkqSQYdKpy9",
        "outputId": "47c642fc-18ee-4289-f294-fc2ffd8129a6"
      },
      "execution_count": null,
      "outputs": [
        {
          "output_type": "stream",
          "name": "stdout",
          "text": [
            "넓이를 구하고 싶은 사각형의 숫자를 써주세요.\n",
            " 1.직사각형 2.평행사변형 3.사다리꼴 \n",
            " >>>3\n",
            "사다리꼴 함수는 trape()입니다.\n"
          ]
        }
      ]
    },
    {
      "cell_type": "code",
      "source": [
        "a.rect()"
      ],
      "metadata": {
        "colab": {
          "base_uri": "https://localhost:8080/",
          "height": 72
        },
        "id": "nR9KMOIZKl1C",
        "outputId": "3c7f9b8a-d367-4ecd-ed98-eaee430766fb"
      },
      "execution_count": null,
      "outputs": [
        {
          "name": "stdout",
          "output_type": "stream",
          "text": [
            "가로, 세로를 입력하세요. 예시 : 가로,세로\n",
            " >>>2,4\n"
          ]
        },
        {
          "output_type": "execute_result",
          "data": {
            "text/plain": [
              "'직사각형의 넓이는 : 8'"
            ],
            "application/vnd.google.colaboratory.intrinsic+json": {
              "type": "string"
            }
          },
          "metadata": {},
          "execution_count": 11
        }
      ]
    },
    {
      "cell_type": "code",
      "source": [
        "a.par()"
      ],
      "metadata": {
        "colab": {
          "base_uri": "https://localhost:8080/",
          "height": 72
        },
        "id": "Ik-wd7prKxTL",
        "outputId": "3151af32-fa05-46be-b121-673623f64ed9"
      },
      "execution_count": null,
      "outputs": [
        {
          "name": "stdout",
          "output_type": "stream",
          "text": [
            "밑변, 높이를 입력하세요. 예시 : 밑변,높이\n",
            " >>>5,4\n"
          ]
        },
        {
          "output_type": "execute_result",
          "data": {
            "text/plain": [
              "'평행사변형의 넓이는 : 20'"
            ],
            "application/vnd.google.colaboratory.intrinsic+json": {
              "type": "string"
            }
          },
          "metadata": {},
          "execution_count": 13
        }
      ]
    },
    {
      "cell_type": "code",
      "source": [
        "a.trape()"
      ],
      "metadata": {
        "colab": {
          "base_uri": "https://localhost:8080/",
          "height": 72
        },
        "id": "vnrq1ClhLWPm",
        "outputId": "1e77d84c-9edf-4ccf-daaa-0d04ebd89dfc"
      },
      "execution_count": null,
      "outputs": [
        {
          "name": "stdout",
          "output_type": "stream",
          "text": [
            "밑변, 윗변, 높이를 입력하세요. 예시 : 밑변, 윗변, 높이\n",
            " >>>10,7,3\n"
          ]
        },
        {
          "output_type": "execute_result",
          "data": {
            "text/plain": [
              "'사다리꼴의 넓이는 : 25.5'"
            ],
            "application/vnd.google.colaboratory.intrinsic+json": {
              "type": "string"
            }
          },
          "metadata": {},
          "execution_count": 14
        }
      ]
    },
    {
      "cell_type": "markdown",
      "source": [
        "**2. 키오스크 (1)**"
      ],
      "metadata": {
        "id": "Unk1vEylLivc"
      }
    },
    {
      "cell_type": "code",
      "source": [
        "class Kiosk:\n",
        "    def __init__(self):\n",
        "        # 메뉴 및 가격 초기화\n",
        "        self.menu = ['americano', 'latte', 'mocha', 'yuza_tea', 'green_tea', 'choco_latte']\n",
        "        self.price = [2000, 3000, 3000, 2500, 2500, 3000]\n",
        "        self.order_menu = []  # 주문 리스트\n",
        "        self.order_price = []  # 가격 리스트\n",
        "        self.price_sum = 0  # 합계 금액 초기화\n",
        "\n",
        "    def menu_print(self):\n",
        "        \"\"\"메뉴 출력 메서드\"\"\"\n",
        "        print(\"메뉴판\")\n",
        "        for i in range(len(self.menu)):\n",
        "            print(f\"{i + 1}. {self.menu[i]} : {self.price[i]}원\")\n",
        "\n",
        "    def select_temperature(self):\n",
        "        \"\"\"음료 온도를 선택하는 메서드\"\"\"\n",
        "        while True:\n",
        "            t = int(input(\"HOT 음료는 1을, ICE 음료는 2를 입력하세요 : \"))\n",
        "            if t == 1:\n",
        "                return \"HOT\"\n",
        "            elif t == 2:\n",
        "                return \"ICE\"\n",
        "            else:\n",
        "                print(\"1과 2 중 하나를 입력하세요.\")\n",
        "\n",
        "    def menu_select(self):\n",
        "        \"\"\"메뉴 선택 및 주문 메서드\"\"\"\n",
        "        while True:\n",
        "            try:\n",
        "                n = int(input(\"음료 번호를 입력하세요 (지불은 0): \"))\n",
        "                if n == 0:  # 지불 선택\n",
        "                    print(\"주문을 종료합니다.\")\n",
        "                    print(\"주문 내역:\", self.order_menu)\n",
        "                    print(\"총 합계 금액:\", self.price_sum, \"원\")\n",
        "                    break\n",
        "                elif 1 <= n <= len(self.menu):  # 유효한 메뉴 번호\n",
        "                    temp = self.select_temperature()  # 온도 선택\n",
        "                    self.order_menu.append(temp + \" \" + self.menu[n-1])  # 주문 리스트에 추가\n",
        "                    self.order_price.append(self.price[n-1])  # 가격 리스트에 추가\n",
        "                    self.price_sum += self.price[n-1]  # 합계 금액 업데이트\n",
        "                    print(f\"{temp} {self.menu[n-1]} : {self.price[n-1]}원\")\n",
        "                    print(f\"현재 합계 금액: {self.price_sum}원\")\n",
        "                else:\n",
        "                    print(\"없는 메뉴입니다. 다시 입력해 주세요.\")\n",
        "            except ValueError:\n",
        "                print(\"유효한 번호를 입력해 주세요.\")"
      ],
      "metadata": {
        "id": "oEfVVRsNLrhy"
      },
      "execution_count": null,
      "outputs": []
    },
    {
      "cell_type": "code",
      "source": [
        "a = Kiosk()  # 객체 생성\n",
        "a.menu_print()  # 메뉴 출력\n",
        "a.menu_select()  # 음료 선택 및 주문"
      ],
      "metadata": {
        "colab": {
          "base_uri": "https://localhost:8080/"
        },
        "id": "7VZD-WZtL654",
        "outputId": "5a36ccb5-ee9c-4cae-e644-a67ce9a7b4d3"
      },
      "execution_count": null,
      "outputs": [
        {
          "output_type": "stream",
          "name": "stdout",
          "text": [
            "메뉴판\n",
            "1. americano : 2000원\n",
            "2. latte : 3000원\n",
            "3. mocha : 3000원\n",
            "4. yuza_tea : 2500원\n",
            "5. green_tea : 2500원\n",
            "6. choco_latte : 3000원\n",
            "음료 번호를 입력하세요 (지불은 0): 1\n",
            "HOT 음료는 1을, ICE 음료는 2를 입력하세요 : 2\n",
            "ICE americano : 2000원\n",
            "현재 합계 금액: 2000원\n",
            "음료 번호를 입력하세요 (지불은 0): 3\n",
            "HOT 음료는 1을, ICE 음료는 2를 입력하세요 : 2\n",
            "ICE mocha : 3000원\n",
            "현재 합계 금액: 5000원\n",
            "음료 번호를 입력하세요 (지불은 0): 4\n",
            "HOT 음료는 1을, ICE 음료는 2를 입력하세요 : 1\n",
            "HOT yuza_tea : 2500원\n",
            "현재 합계 금액: 7500원\n",
            "음료 번호를 입력하세요 (지불은 0): 6\n",
            "HOT 음료는 1을, ICE 음료는 2를 입력하세요 : 2\n",
            "ICE choco_latte : 3000원\n",
            "현재 합계 금액: 10500원\n",
            "음료 번호를 입력하세요 (지불은 0): 2\n",
            "HOT 음료는 1을, ICE 음료는 2를 입력하세요 : 1\n",
            "HOT latte : 3000원\n",
            "현재 합계 금액: 13500원\n",
            "음료 번호를 입력하세요 (지불은 0): 0\n",
            "주문을 종료합니다.\n",
            "주문 내역: ['ICE americano', 'ICE mocha', 'HOT yuza_tea', 'ICE choco_latte', 'HOT latte']\n",
            "총 합계 금액: 13500 원\n"
          ]
        }
      ]
    },
    {
      "cell_type": "markdown",
      "source": [
        "**2. 키오스크 (2)**"
      ],
      "metadata": {
        "id": "XZgvGWTdRa2k"
      }
    },
    {
      "cell_type": "code",
      "source": [
        "class Kiosk:\n",
        "    def __init__(self):\n",
        "        self.menu = ['americano', 'latte', 'mocha', 'yuza_tea', 'green_tea', 'choco_latte']\n",
        "        self.price = [2000, 3000, 3000, 2500, 2500, 3000]\n",
        "        self.order_menu = []\n",
        "        self.order_price = []\n",
        "        self.price_sum = 0\n",
        "\n",
        "    # 메뉴 출력 메서드\n",
        "    def menu_print(self):\n",
        "        print(\"메뉴판\")\n",
        "        for i in range(len(self.menu)):\n",
        "            print(f\"{i + 1}. {self.menu[i]} : {self.price[i]}원\")\n",
        "\n",
        "    # 주문 메서드\n",
        "    def menu_select(self):\n",
        "        while True:\n",
        "            # 메뉴 번호 입력\n",
        "            n = int(input(\"음료 번호를 입력하세요 (지불은 0): \"))\n",
        "            if n == 0:  # 지불 선택\n",
        "                print(\"주문을 종료합니다.\")\n",
        "                break\n",
        "            elif 1 <= n <= len(self.menu):\n",
        "                # 온도 선택\n",
        "                while True:\n",
        "                    t = int(input(\"HOT 음료는 1을, ICE 음료는 2를 입력하세요 : \"))\n",
        "                    if t == 1:\n",
        "                        temp = \"HOT\"\n",
        "                        break\n",
        "                    elif t == 2:\n",
        "                        temp = \"ICE\"\n",
        "                        break\n",
        "                    else:\n",
        "                        print(\"1과 2 중 하나를 입력하세요.\")\n",
        "\n",
        "                # 주문 업데이트\n",
        "                self.order_menu.append(temp + \" \" + self.menu[n - 1])\n",
        "                self.order_price.append(self.price[n - 1])\n",
        "                self.price_sum += self.price[n - 1]\n",
        "\n",
        "                # 주문 내역 출력\n",
        "                print(f\"{temp} {self.menu[n - 1]} : {self.price[n - 1]}원\")\n",
        "                print(f\"현재 합계 금액: {self.price_sum}원\")\n",
        "            else:\n",
        "                print(\"없는 메뉴입니다. 다시 입력해 주세요.\")\n",
        "\n",
        "    # 지불\n",
        "    def pay(self):\n",
        "        while True:\n",
        "            payment_method = input(\"지불 방식을 선택하세요 (현금: 'cash' 또는 1, 카드: 'card' 또는 2): \").lower()\n",
        "            if payment_method == \"cash\" or payment_method == \"1\":\n",
        "                print(\"직원을 호출하겠습니다.\")\n",
        "                break\n",
        "            elif payment_method == \"card\" or payment_method == \"2\":\n",
        "                print(\"IC칩 방향에 맞게 카드를 꽂아주세요.\")\n",
        "                break\n",
        "            else:\n",
        "                print(\"잘못된 입력입니다. 다시 선택해주세요.\")\n",
        "\n",
        "    # 주문서 출력\n",
        "    def table(self):\n",
        "        # 외곽 상단\n",
        "        print('⟝' + '-' * 40 + '⟞')\n",
        "        for _ in range(2):  # 위쪽 공백 줄\n",
        "            print('|' + ' ' * 41 + '|')\n",
        "\n",
        "        # 주문 리스트 출력\n",
        "        for i in range(len(self.order_menu)):\n",
        "            print('| {:<23} : {:>5}원 |'.format(self.order_menu[i], self.order_price[i]))  # 정렬된 출력\n",
        "\n",
        "        # 합계 금액\n",
        "        print('| {:<23} : {:>5}원 |'.format(\"합계 금액\", self.price_sum))\n",
        "\n",
        "        # 외곽 하단\n",
        "        for _ in range(2):  # 아래쪽 공백 줄\n",
        "            print('|' + ' ' * 41 + '|')\n",
        "        print('⟝' + '-' * 40 + '⟞')"
      ],
      "metadata": {
        "id": "C0M3qckjRge4"
      },
      "execution_count": null,
      "outputs": []
    },
    {
      "cell_type": "code",
      "source": [
        "a = Kiosk()  # 객체 생성\n",
        "a.menu_print()  # 메뉴 출력\n",
        "a.menu_select()  # 주문\n",
        "a.pay()  # 지불\n",
        "a.table()  # 주문표 출력"
      ],
      "metadata": {
        "colab": {
          "base_uri": "https://localhost:8080/"
        },
        "id": "NjtJembvRxtv",
        "outputId": "512aef45-923a-4a20-d4b3-526d0c5b7843"
      },
      "execution_count": null,
      "outputs": [
        {
          "output_type": "stream",
          "name": "stdout",
          "text": [
            "메뉴판\n",
            "1. americano : 2000원\n",
            "2. latte : 3000원\n",
            "3. mocha : 3000원\n",
            "4. yuza_tea : 2500원\n",
            "5. green_tea : 2500원\n",
            "6. choco_latte : 3000원\n",
            "음료 번호를 입력하세요 (지불은 0): 1\n",
            "HOT 음료는 1을, ICE 음료는 2를 입력하세요 : 2\n",
            "ICE americano : 2000원\n",
            "현재 합계 금액: 2000원\n",
            "음료 번호를 입력하세요 (지불은 0): 2\n",
            "HOT 음료는 1을, ICE 음료는 2를 입력하세요 : 1\n",
            "HOT latte : 3000원\n",
            "현재 합계 금액: 5000원\n",
            "음료 번호를 입력하세요 (지불은 0): 3\n",
            "HOT 음료는 1을, ICE 음료는 2를 입력하세요 : 1\n",
            "HOT mocha : 3000원\n",
            "현재 합계 금액: 8000원\n",
            "음료 번호를 입력하세요 (지불은 0): 4\n",
            "HOT 음료는 1을, ICE 음료는 2를 입력하세요 : 2\n",
            "ICE yuza_tea : 2500원\n",
            "현재 합계 금액: 10500원\n",
            "음료 번호를 입력하세요 (지불은 0): 5\n",
            "HOT 음료는 1을, ICE 음료는 2를 입력하세요 : 1\n",
            "HOT green_tea : 2500원\n",
            "현재 합계 금액: 13000원\n",
            "음료 번호를 입력하세요 (지불은 0): 6\n",
            "HOT 음료는 1을, ICE 음료는 2를 입력하세요 : 2\n",
            "ICE choco_latte : 3000원\n",
            "현재 합계 금액: 16000원\n",
            "음료 번호를 입력하세요 (지불은 0): 0\n",
            "주문을 종료합니다.\n",
            "지불 방식을 선택하세요 (현금: 'cash' 또는 1, 카드: 'card' 또는 2): 2\n",
            "IC칩 방향에 맞게 카드를 꽂아주세요.\n",
            "⟝----------------------------------------⟞\n",
            "|                                         |\n",
            "|                                         |\n",
            "| ICE americano           :  2000원 |\n",
            "| HOT latte               :  3000원 |\n",
            "| HOT mocha               :  3000원 |\n",
            "| ICE yuza_tea            :  2500원 |\n",
            "| HOT green_tea           :  2500원 |\n",
            "| ICE choco_latte         :  3000원 |\n",
            "| 합계 금액                   : 16000원 |\n",
            "|                                         |\n",
            "|                                         |\n",
            "⟝----------------------------------------⟞\n"
          ]
        }
      ]
    }
  ]
}